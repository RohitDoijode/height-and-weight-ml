{
 "cells": [
  {
   "cell_type": "code",
   "execution_count": 37,
   "metadata": {},
   "outputs": [],
   "source": [
    "#ML Program to predict weight using height by using Simple Linear Regression Model\n",
    "import numpy as np\n",
    "import matplotlib.pyplot as plt\n",
    "import pandas as pd"
   ]
  },
  {
   "cell_type": "code",
   "execution_count": 38,
   "metadata": {},
   "outputs": [],
   "source": [
    "dataset = pd.read_csv('data.csv')\n",
    "X = dataset.iloc[ : , : -1 ].values #Features which is height\n",
    "y = dataset.iloc[ : , -1 ].values #Dependent Variable which is weight"
   ]
  },
  {
   "cell_type": "code",
   "execution_count": 39,
   "metadata": {},
   "outputs": [
    {
     "name": "stdout",
     "output_type": "stream",
     "text": [
      "    Height  Weight\n",
      "0     1.47   52.21\n",
      "1     1.50   53.12\n",
      "2     1.52   54.48\n",
      "3     1.55   55.84\n",
      "4     1.57   57.20\n",
      "5      NaN   58.57\n",
      "6     1.63   59.93\n",
      "7     1.65   61.29\n",
      "8     1.68   63.11\n",
      "9     1.70   64.47\n",
      "10    1.73   66.28\n",
      "11     NaN   68.10\n",
      "12    1.78   69.92\n",
      "13    1.80   72.19\n",
      "14    1.83   74.46\n"
     ]
    }
   ],
   "source": [
    "print(dataset) "
   ]
  },
  {
   "cell_type": "code",
   "execution_count": 41,
   "metadata": {},
   "outputs": [
    {
     "name": "stdout",
     "output_type": "stream",
     "text": [
      "[[1.47]\n",
      " [1.5 ]\n",
      " [1.52]\n",
      " [1.55]\n",
      " [1.57]\n",
      " [ nan]\n",
      " [1.63]\n",
      " [1.65]\n",
      " [1.68]\n",
      " [1.7 ]\n",
      " [1.73]\n",
      " [ nan]\n",
      " [1.78]\n",
      " [1.8 ]\n",
      " [1.83]]\n"
     ]
    }
   ],
   "source": [
    "print(X) #Feature"
   ]
  },
  {
   "cell_type": "code",
   "execution_count": 42,
   "metadata": {},
   "outputs": [
    {
     "name": "stdout",
     "output_type": "stream",
     "text": [
      "[52.21 53.12 54.48 55.84 57.2  58.57 59.93 61.29 63.11 64.47 66.28 68.1\n",
      " 69.92 72.19 74.46]\n"
     ]
    }
   ],
   "source": [
    "print(y) #Dependent variable"
   ]
  },
  {
   "cell_type": "code",
   "execution_count": 43,
   "metadata": {},
   "outputs": [],
   "source": [
    "#Data preprocessing, missing values for features by taking the mean\n",
    "from sklearn.impute import SimpleImputer\n",
    "imputer = SimpleImputer(missing_values = np.nan , strategy = 'mean')\n",
    "imputer.fit(X[ : , 0 : 1]) #fit method used for only the first column of the features\n",
    "X[ : , 0 : 1]= imputer.transform(X[ : , 0 : 1]) #actually transforming and filling in the missing values of the features\n"
   ]
  },
  {
   "cell_type": "code",
   "execution_count": 44,
   "metadata": {},
   "outputs": [
    {
     "name": "stdout",
     "output_type": "stream",
     "text": [
      "[[1.47      ]\n",
      " [1.5       ]\n",
      " [1.52      ]\n",
      " [1.55      ]\n",
      " [1.57      ]\n",
      " [1.64692308]\n",
      " [1.63      ]\n",
      " [1.65      ]\n",
      " [1.68      ]\n",
      " [1.7       ]\n",
      " [1.73      ]\n",
      " [1.64692308]\n",
      " [1.78      ]\n",
      " [1.8       ]\n",
      " [1.83      ]]\n"
     ]
    }
   ],
   "source": [
    "print(X) # Missing data has been filled"
   ]
  },
  {
   "cell_type": "code",
   "execution_count": 45,
   "metadata": {},
   "outputs": [],
   "source": [
    "#Splitting Dataset into traning set and test set\n",
    "from sklearn.model_selection import train_test_split\n",
    "X_train, X_test, y_train, y_test = train_test_split(X, y, test_size = 0.2, random_state = 0)"
   ]
  },
  {
   "cell_type": "code",
   "execution_count": 46,
   "metadata": {},
   "outputs": [
    {
     "data": {
      "text/plain": [
       "LinearRegression(copy_X=True, fit_intercept=True, n_jobs=None, normalize=False)"
      ]
     },
     "execution_count": 46,
     "metadata": {},
     "output_type": "execute_result"
    }
   ],
   "source": [
    "#Training Simple Linear Regression model on the training set\n",
    "from sklearn.linear_model import LinearRegression\n",
    "regressor = LinearRegression()\n",
    "regressor.fit(X_train, y_train)"
   ]
  },
  {
   "cell_type": "code",
   "execution_count": 47,
   "metadata": {},
   "outputs": [],
   "source": [
    "y_pred = regressor.predict(X_test)"
   ]
  },
  {
   "cell_type": "code",
   "execution_count": 49,
   "metadata": {},
   "outputs": [
    {
     "data": {
      "image/png": "[encoded data removed]",
      "text/plain": [
       "<Figure size 432x288 with 1 Axes>"
      ]
     },
     "metadata": {
      "needs_background": "light"
     },
     "output_type": "display_data"
    }
   ],
   "source": [
    "#Visualising the training set results\n",
    "plt.scatter(X_train, y_train, color = 'red')\n",
    "plt.plot(X_train, regressor.predict(X_train), color = 'blue')\n",
    "plt.title('Weight Vs Height (Training set)')\n",
    "plt.xlabel('Height (m)')\n",
    "plt.ylabel('Weight (kg)')\n",
    "plt.show()"
   ]
  },
  {
   "cell_type": "code",
   "execution_count": 50,
   "metadata": {},
   "outputs": [
    {
     "data": {
      "image/png": "[encoded data removed]",
      "text/plain": [
       "<Figure size 432x288 with 1 Axes>"
      ]
     },
     "metadata": {
      "needs_background": "light"
     },
     "output_type": "display_data"
    }
   ],
   "source": [
    "#Visualizing the test set results\n",
    "plt.scatter(X_test, y_test, color = 'red')\n",
    "plt.plot(X_train, regressor.predict(X_train), color = 'blue')\n",
    "plt.title('Weight Vs Height (Test Set)')\n",
    "plt.xlabel('Height (m)')\n",
    "plt.ylabel('Weight (kg)')\n",
    "plt.show()"
   ]
  },
  {
   "cell_type": "code",
   "execution_count": 51,
   "metadata": {},
   "outputs": [
    {
     "name": "stdout",
     "output_type": "stream",
     "text": [
      "[77.73283061]\n"
     ]
    }
   ],
   "source": [
    "#Predicting weight if height is 1.9m\n",
    "print(regressor.predict([[1.9]]))"
   ]
  },
  {
   "cell_type": "code",
   "execution_count": null,
   "metadata": {},
   "outputs": [],
   "source": []
  }
 ],
 "metadata": {
  "kernelspec": {
   "display_name": "Python 3",
   "language": "python",
   "name": "python3"
  },
  "language_info": {
   "codemirror_mode": {
    "name": "ipython",
    "version": 3
   },
   "file_extension": ".py",
   "mimetype": "text/x-python",
   "name": "python",
   "nbconvert_exporter": "python",
   "pygments_lexer": "ipython3",
   "version": "3.7.6"
  }
 },
 "nbformat": 4,
 "nbformat_minor": 4
}
